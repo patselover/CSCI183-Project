{
 "cells": [
  {
   "cell_type": "code",
   "execution_count": 1,
   "metadata": {},
   "outputs": [],
   "source": [
    "def sentiment(dateToAnalyze):\n",
    "    with open('./../cleanData/'+dateToAnalyze) as json_data:\n",
    "        d = ast.literal_eval(json.loads(json_data.read()))\n",
    "        sentimentPair = {key: None for key in d}\n",
    "        for i in range (0, len(d)):\n",
    "            sentimentTemp=TextBlob(d[i]);\n",
    "            sentimentPair[d[i]] = sentimentTemp.sentiment.polarity;\n",
    "        sentimentPair = json.dumps(sentimentPair);\n",
    "        with open('./../anaylzedData/'+dateToAnalyze, 'w') as f:\n",
    "             json.dump(sentimentPair, f)"
   ]
  },
  {
   "cell_type": "code",
   "execution_count": 2,
   "metadata": {},
   "outputs": [
    {
     "ename": "FileNotFoundError",
     "evalue": "[Errno 2] No such file or directory: './../cleanData/2018-02-24.json'",
     "output_type": "error",
     "traceback": [
      "\u001b[0;31m---------------------------------------------------------------------------\u001b[0m",
      "\u001b[0;31mFileNotFoundError\u001b[0m                         Traceback (most recent call last)",
      "\u001b[0;32m<ipython-input-2-1fffd70761c0>\u001b[0m in \u001b[0;36m<module>\u001b[0;34m()\u001b[0m\n\u001b[1;32m     36\u001b[0m             \u001b[0;32mif\u001b[0m \u001b[0mtemp\u001b[0m \u001b[0;34m==\u001b[0m \u001b[0mcurrentDate\u001b[0m\u001b[0;34m:\u001b[0m\u001b[0;34m\u001b[0m\u001b[0m\n\u001b[1;32m     37\u001b[0m                 \u001b[0;32mbreak\u001b[0m\u001b[0;34m;\u001b[0m\u001b[0;34m\u001b[0m\u001b[0m\n\u001b[0;32m---> 38\u001b[0;31m             \u001b[0msentiment\u001b[0m\u001b[0;34m(\u001b[0m\u001b[0mtemp\u001b[0m\u001b[0;34m)\u001b[0m\u001b[0;34m;\u001b[0m\u001b[0;34m\u001b[0m\u001b[0m\n\u001b[0m",
      "\u001b[0;32m<ipython-input-1-5480d560cdbb>\u001b[0m in \u001b[0;36msentiment\u001b[0;34m(dateToAnalyze)\u001b[0m\n\u001b[1;32m      1\u001b[0m \u001b[0;32mdef\u001b[0m \u001b[0msentiment\u001b[0m\u001b[0;34m(\u001b[0m\u001b[0mdateToAnalyze\u001b[0m\u001b[0;34m)\u001b[0m\u001b[0;34m:\u001b[0m\u001b[0;34m\u001b[0m\u001b[0m\n\u001b[0;32m----> 2\u001b[0;31m     \u001b[0;32mwith\u001b[0m \u001b[0mopen\u001b[0m\u001b[0;34m(\u001b[0m\u001b[0;34m'./../cleanData/'\u001b[0m\u001b[0;34m+\u001b[0m\u001b[0mdateToAnalyze\u001b[0m\u001b[0;34m)\u001b[0m \u001b[0;32mas\u001b[0m \u001b[0mjson_data\u001b[0m\u001b[0;34m:\u001b[0m\u001b[0;34m\u001b[0m\u001b[0m\n\u001b[0m\u001b[1;32m      3\u001b[0m         \u001b[0md\u001b[0m \u001b[0;34m=\u001b[0m \u001b[0mast\u001b[0m\u001b[0;34m.\u001b[0m\u001b[0mliteral_eval\u001b[0m\u001b[0;34m(\u001b[0m\u001b[0mjson\u001b[0m\u001b[0;34m.\u001b[0m\u001b[0mloads\u001b[0m\u001b[0;34m(\u001b[0m\u001b[0mjson_data\u001b[0m\u001b[0;34m.\u001b[0m\u001b[0mread\u001b[0m\u001b[0;34m(\u001b[0m\u001b[0;34m)\u001b[0m\u001b[0;34m)\u001b[0m\u001b[0;34m)\u001b[0m\u001b[0;34m\u001b[0m\u001b[0m\n\u001b[1;32m      4\u001b[0m         \u001b[0msentimentPair\u001b[0m \u001b[0;34m=\u001b[0m \u001b[0;34m{\u001b[0m\u001b[0mkey\u001b[0m\u001b[0;34m:\u001b[0m \u001b[0;32mNone\u001b[0m \u001b[0;32mfor\u001b[0m \u001b[0mkey\u001b[0m \u001b[0;32min\u001b[0m \u001b[0md\u001b[0m\u001b[0;34m}\u001b[0m\u001b[0;34m\u001b[0m\u001b[0m\n\u001b[1;32m      5\u001b[0m         \u001b[0;32mfor\u001b[0m \u001b[0mi\u001b[0m \u001b[0;32min\u001b[0m \u001b[0mrange\u001b[0m \u001b[0;34m(\u001b[0m\u001b[0;36m0\u001b[0m\u001b[0;34m,\u001b[0m \u001b[0mlen\u001b[0m\u001b[0;34m(\u001b[0m\u001b[0md\u001b[0m\u001b[0;34m)\u001b[0m\u001b[0;34m)\u001b[0m\u001b[0;34m:\u001b[0m\u001b[0;34m\u001b[0m\u001b[0m\n",
      "\u001b[0;31mFileNotFoundError\u001b[0m: [Errno 2] No such file or directory: './../cleanData/2018-02-24.json'"
     ]
    }
   ],
   "source": [
    "import json;\n",
    "import numpy as np;\n",
    "import datetime;\n",
    "import os;\n",
    "from textblob import TextBlob;\n",
    "import ast;\n",
    "import shutil;\n",
    "\n",
    "years = ['2017','2018'];\n",
    "dates = {'01':31,\n",
    "       '02':28,\n",
    "       '03':31,\n",
    "       '04':30,\n",
    "       '05':31,\n",
    "       '06':30,\n",
    "       '07':31,\n",
    "       '08':31,\n",
    "       '09':30,\n",
    "       '10':31,\n",
    "       '11':30,\n",
    "       '12':31};\n",
    "\n",
    "now = datetime.datetime.now();\n",
    "currentDate = str(now.year)+'-'+str(now.month)+'-'+str(now.day)+'.json';\n",
    "\n",
    "mypath = './../anaylzedData'\n",
    "if not os.path.isdir(mypath):\n",
    "    os.makedirs(mypath);\n",
    "else:\n",
    "    shutil.rmtree(mypath);\n",
    "    os.makedirs(mypath);\n",
    "\n",
    "for k in range(0,len(years)):\n",
    "    for i in dates:\n",
    "        for e in range(1,dates[i] + 1):\n",
    "            if e < 10:\n",
    "                temp = years[k]+'-'+str(i)+'-0'+str(e)+'.json'\n",
    "            else:\n",
    "                temp = years[k]+'-'+str(i)+'-'+str(e)+'.json'\n",
    "            if temp == currentDate:\n",
    "                break;\n",
    "            sentiment(temp);"
   ]
  },
  {
   "cell_type": "code",
   "execution_count": null,
   "metadata": {},
   "outputs": [],
   "source": []
  }
 ],
 "metadata": {
  "kernelspec": {
   "display_name": "Python 3",
   "language": "python",
   "name": "python3"
  },
  "language_info": {
   "codemirror_mode": {
    "name": "ipython",
    "version": 3
   },
   "file_extension": ".py",
   "mimetype": "text/x-python",
   "name": "python",
   "nbconvert_exporter": "python",
   "pygments_lexer": "ipython3",
   "version": "3.6.4"
  }
 },
 "nbformat": 4,
 "nbformat_minor": 2
}
