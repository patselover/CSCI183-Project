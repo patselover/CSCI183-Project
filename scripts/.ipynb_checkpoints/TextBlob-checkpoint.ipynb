{
 "cells": [
  {
   "cell_type": "code",
   "execution_count": null,
   "metadata": {},
   "outputs": [],
   "source": [
    "def sentiment(dateToAnalyze):\n",
    "    with open('./../cleanData/'+dateToAnalyze) as json_data:\n",
    "        d = ast.literal_eval(json.loads(json_data.read()))\n",
    "        sentimentPair = {key: None for key in d}\n",
    "        for i in range (0, len(d)):\n",
    "            sentimentTemp=TextBlob(d[i]);\n",
    "            sentimentPair[d[i]] = sentimentTemp.sentiment.polarity;\n",
    "        sentimentPair = json.dumps(sentimentPair);\n",
    "        with open('./../anaylzedData/'+dateToAnalyze, 'w') as f:\n",
    "             json.dump(sentimentPair, f)"
   ]
  },
  {
   "cell_type": "code",
   "execution_count": null,
   "metadata": {},
   "outputs": [],
   "source": [
    "import json;\n",
    "import numpy as np;\n",
    "import datetime;\n",
    "import os;\n",
    "from textblob import TextBlob;\n",
    "import ast;\n",
    "import shutil;\n",
    "\n",
    "years = ['2017','2018'];\n",
    "dates = {'01':31,\n",
    "       '02':28,\n",
    "       '03':31,\n",
    "       '04':30,\n",
    "       '05':31,\n",
    "       '06':30,\n",
    "       '07':31,\n",
    "       '08':31,\n",
    "       '09':30,\n",
    "       '10':31,\n",
    "       '11':30,\n",
    "       '12':31};\n",
    "\n",
    "now = datetime.datetime.now();\n",
    "currentDate = str(now.year)+'-'+str(now.month)+'-'+str(now.day)+'.json';\n",
    "\n",
    "mypath = './../anaylzedData'\n",
    "if not os.path.isdir(mypath):\n",
    "    os.makedirs(mypath);\n",
    "else:\n",
    "    shutil.rmtree(mypath);\n",
    "    os.makedirs(mypath);\n",
    "\n",
    "for k in range(0,len(years)):\n",
    "    for i in dates:\n",
    "        for e in range(1,dates[i] + 1):\n",
    "            if e < 10:\n",
    "                temp = years[k]+'-'+str(i)+'-0'+str(e)+'.json'\n",
    "            else:\n",
    "                temp = years[k]+'-'+str(i)+'-'+str(e)+'.json'\n",
    "            if temp == currentDate:\n",
    "                break;\n",
    "            sentiment(temp);"
   ]
  },
  {
   "cell_type": "code",
   "execution_count": null,
   "metadata": {},
   "outputs": [],
   "source": []
  }
 ],
 "metadata": {
  "kernelspec": {
   "display_name": "Python 3",
   "language": "python",
   "name": "python3"
  },
  "language_info": {
   "codemirror_mode": {
    "name": "ipython",
    "version": 3
   },
   "file_extension": ".py",
   "mimetype": "text/x-python",
   "name": "python",
   "nbconvert_exporter": "python",
   "pygments_lexer": "ipython3",
   "version": "3.6.4"
  }
 },
 "nbformat": 4,
 "nbformat_minor": 2
}
